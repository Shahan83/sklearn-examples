{
 "cells": [
  {
   "cell_type": "code",
   "execution_count": 1,
   "metadata": {
    "collapsed": true
   },
   "outputs": [],
   "source": [
    "from time import time\n",
    "from scipy import sparse\n",
    "from scipy import linalg\n",
    "\n",
    "from sklearn.datasets.samples_generator import make_regression\n",
    "from sklearn.linear_model import Lasso"
   ]
  },
  {
   "cell_type": "markdown",
   "metadata": {},
   "source": [
    "#### Lasso implementation on dense data"
   ]
  },
  {
   "cell_type": "code",
   "execution_count": 2,
   "metadata": {
    "collapsed": true
   },
   "outputs": [],
   "source": [
    "X,y = make_regression(n_samples=200,n_features=5000,random_state=0)"
   ]
  },
  {
   "cell_type": "code",
   "execution_count": 3,
   "metadata": {
    "collapsed": true
   },
   "outputs": [],
   "source": [
    "X_sp = sparse.coo_matrix(X)"
   ]
  },
  {
   "cell_type": "code",
   "execution_count": 5,
   "metadata": {
    "collapsed": false
   },
   "outputs": [
    {
     "data": {
      "text/plain": [
       "<200x5000 sparse matrix of type '<class 'numpy.float64'>'\n",
       "\twith 1000000 stored elements in COOrdinate format>"
      ]
     },
     "execution_count": 5,
     "metadata": {},
     "output_type": "execute_result"
    }
   ],
   "source": [
    "X_sp"
   ]
  },
  {
   "cell_type": "code",
   "execution_count": 9,
   "metadata": {
    "collapsed": false
   },
   "outputs": [],
   "source": [
    "alpha=1\n",
    "sparse_lasso = Lasso(alpha=alpha,fit_intercept=False,max_iter=1000)\n",
    "dense_lasso = Lasso(alpha=alpha,fit_intercept=False,max_iter=1000)"
   ]
  },
  {
   "cell_type": "code",
   "execution_count": 17,
   "metadata": {
    "collapsed": false
   },
   "outputs": [
    {
     "name": "stdout",
     "output_type": "stream",
     "text": [
      "Sparse lasso done in 0.143328s\n"
     ]
    }
   ],
   "source": [
    "t0 = time()\n",
    "sparse_lasso.fit(X_sp,y)\n",
    "print(\"Sparse lasso done in %fs\" %(time()-t0))"
   ]
  },
  {
   "cell_type": "code",
   "execution_count": 18,
   "metadata": {
    "collapsed": false
   },
   "outputs": [
    {
     "name": "stdout",
     "output_type": "stream",
     "text": [
      "Dense lasso done in 0.071854s\n"
     ]
    }
   ],
   "source": [
    "t0 = time()\n",
    "dense_lasso.fit(X,y)\n",
    "print(\"Dense lasso done in %fs\" %(time()-t0))"
   ]
  },
  {
   "cell_type": "code",
   "execution_count": 19,
   "metadata": {
    "collapsed": false
   },
   "outputs": [
    {
     "name": "stdout",
     "output_type": "stream",
     "text": [
      "Distance between coeffecients : 8.015287401035549e-14\n"
     ]
    }
   ],
   "source": [
    "print(\"Distance between coeffecients : %s\" \n",
    "      % linalg.norm(sparse_lasso.coef_ - dense_lasso.coef_))"
   ]
  },
  {
   "cell_type": "markdown",
   "metadata": {},
   "source": [
    "#### Lasso implementations on Sparse data"
   ]
  },
  {
   "cell_type": "code",
   "execution_count": 20,
   "metadata": {
    "collapsed": true
   },
   "outputs": [],
   "source": [
    "Xs = X.copy()"
   ]
  },
  {
   "cell_type": "code",
   "execution_count": 22,
   "metadata": {
    "collapsed": false
   },
   "outputs": [],
   "source": [
    "Xs[Xs<2.5]=0.0"
   ]
  },
  {
   "cell_type": "code",
   "execution_count": 23,
   "metadata": {
    "collapsed": true
   },
   "outputs": [],
   "source": [
    "Xs = sparse.coo_matrix(Xs)\n",
    "Xs = Xs.tocsc()"
   ]
  },
  {
   "cell_type": "code",
   "execution_count": 26,
   "metadata": {
    "collapsed": false
   },
   "outputs": [
    {
     "name": "stdout",
     "output_type": "stream",
     "text": [
      "Matrix density : 0.6263000000000001 %\n"
     ]
    }
   ],
   "source": [
    "print(\"Matrix density : %s %%\" %(Xs.nnz/float(X.size)*100))"
   ]
  },
  {
   "cell_type": "code",
   "execution_count": 27,
   "metadata": {
    "collapsed": true
   },
   "outputs": [],
   "source": [
    "alpha = 0.1\n",
    "sparse_lasso = Lasso(alpha=alpha,fit_intercept=False, max_iter=10000)\n",
    "dense_lasso = Lasso(alpha=alpha,fit_intercept=False, max_iter=10000)"
   ]
  },
  {
   "cell_type": "code",
   "execution_count": 28,
   "metadata": {
    "collapsed": false
   },
   "outputs": [
    {
     "name": "stdout",
     "output_type": "stream",
     "text": [
      "Sparse Lasso done in 409.278520s\n"
     ]
    }
   ],
   "source": [
    "to=time()\n",
    "sparse_lasso.fit(Xs,y)\n",
    "print(\"Sparse Lasso done in %fs\" % (time()-t0))"
   ]
  },
  {
   "cell_type": "code",
   "execution_count": 29,
   "metadata": {
    "collapsed": false
   },
   "outputs": [
    {
     "name": "stdout",
     "output_type": "stream",
     "text": [
      "Dense Lasso done in 457.229538s\n"
     ]
    }
   ],
   "source": [
    "to=time()\n",
    "dense_lasso.fit(Xs.toarray(),y)\n",
    "print(\"Dense Lasso done in %fs\" % (time()-t0))"
   ]
  },
  {
   "cell_type": "code",
   "execution_count": 30,
   "metadata": {
    "collapsed": false
   },
   "outputs": [
    {
     "name": "stdout",
     "output_type": "stream",
     "text": [
      "Distance between coeefecients : 8.034211286713951e-12\n"
     ]
    }
   ],
   "source": [
    "print(\"Distance between coeefecients : %s\"\n",
    "     % linalg.norm(sparse_lasso.coef_ - dense_lasso.coef_))"
   ]
  },
  {
   "cell_type": "code",
   "execution_count": null,
   "metadata": {
    "collapsed": true
   },
   "outputs": [],
   "source": []
  }
 ],
 "metadata": {
  "kernelspec": {
   "display_name": "Python [default]",
   "language": "python",
   "name": "python3"
  },
  "language_info": {
   "codemirror_mode": {
    "name": "ipython",
    "version": 3
   },
   "file_extension": ".py",
   "mimetype": "text/x-python",
   "name": "python",
   "nbconvert_exporter": "python",
   "pygments_lexer": "ipython3",
   "version": "3.5.2"
  }
 },
 "nbformat": 4,
 "nbformat_minor": 1
}
